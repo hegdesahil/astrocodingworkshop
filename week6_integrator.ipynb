{
 "cells": [
  {
   "cell_type": "markdown",
   "id": "e443bd9e-30a2-46e8-ba3d-b04457f5e2f3",
   "metadata": {},
   "source": [
    "# OOPaO (Object oriented programming and orbits)\n",
    "\n",
    "tl;dr nice try, but you gotta read through this one in detail!"
   ]
  },
  {
   "cell_type": "markdown",
   "id": "aed61c82-e097-48b0-a077-f8685faa1ce0",
   "metadata": {},
   "source": [
    "## Intro\n",
    "For today's material, we'll be diving into _object oriented programming_, which is a way of thinking about and writing our programs to make them cleaner and more understandable. The basic idea behind object-oriented programming is to create new data structures, or _objects_, that compartmentalize some functionality that we want to be able to generically use. This requires us to introduce the concept of a **class**, as these are the structures through which new objects are defined. \n",
    "\n",
    "We should all be pretty familiar with objects already, as everything that we've been using in python is one! Objects are, as you might guess, things in the code that represent some, well, object. In particular, objects in python will have associated _attributes_,which are variables that define properties of the object, and _methods_, which are functions that allow you to do things with the object. For example, a `numpy` array is an object, and it has an associated set of attributes and methods that we've already used."
   ]
  },
  {
   "cell_type": "code",
   "execution_count": 110,
   "id": "dd17469b-11b5-4671-b571-c7858dd563cc",
   "metadata": {
    "tags": []
   },
   "outputs": [
    {
     "name": "stdout",
     "output_type": "stream",
     "text": [
      "(2, 2)\n",
      "[[0. 0. 0. 0.]]\n"
     ]
    }
   ],
   "source": [
    "import numpy as np\n",
    "\n",
    "arr = np.zeros((2,2)) # 'initialize' the object\n",
    "print(arr.shape) # access the shape attribute\n",
    "print(arr.reshape((1,4))) # use the reshape method"
   ]
  },
  {
   "cell_type": "markdown",
   "id": "7fad3f81-1f16-4a0f-963d-29ee9238bcea",
   "metadata": {},
   "source": [
    "As we've seen, using the syntax `<object>.attribute` or `<object>.method()` allows us to access properties of the object and do things to the object. Building a **class** enables us to build custom objects of our own, for whatever our task may be. \n",
    "\n",
    "## Classes warm-up\n",
    "Before we dive into the meat of today's workshop content, let's practice building some classes. In the cell block below, we've defined an example class so you can familiarize yourself with the basic syntax and structure of a class. "
   ]
  },
  {
   "cell_type": "code",
   "execution_count": 116,
   "id": "9d99dd69-b6a6-450b-8ed9-58e8819218e1",
   "metadata": {
    "tags": []
   },
   "outputs": [],
   "source": [
    "class MyObject(): # this is how we tell the computer we're defining a new class, which will be named `MyObject'\n",
    "    def __init__(self, attribute): # you always need one of these methods, which is called a constructor\n",
    "        # within the constructor, we can set some basic attributes that will be associated with the object\n",
    "        self.attribute = attribute\n",
    "        \n",
    "    def method(self): # this is how we define a method in a class\n",
    "        return self.attribute**2 # in this case, the method squares our attribute"
   ]
  },
  {
   "cell_type": "markdown",
   "id": "d98bd54b-c597-442e-93f8-963a83718324",
   "metadata": {},
   "source": [
    "Ok so above, we've defined a new class called `MyObject`, which doesn't really do anything useful at the moment. Note that the first argument of every function within the class needs to be `self`, so that the functions can access all of the class attributes. We can create an object of this class like so:"
   ]
  },
  {
   "cell_type": "code",
   "execution_count": 117,
   "id": "b058b0a4-609a-42b2-9fb8-ba90d25b98ad",
   "metadata": {
    "tags": []
   },
   "outputs": [
    {
     "name": "stdout",
     "output_type": "stream",
     "text": [
      "5\n",
      "25\n"
     ]
    }
   ],
   "source": [
    "obj = MyObject(5)\n",
    "\n",
    "# then we can access the attributes using the same type of dot notation as above:\n",
    "print(obj.attribute)\n",
    "print(obj.method())"
   ]
  },
  {
   "cell_type": "markdown",
   "id": "733f5771-3d2d-47d9-b33b-341834d01118",
   "metadata": {},
   "source": [
    "Ok that class was pretty basic (and useless), but it's a good illustrative example for how to structure a class. In the cell block below, fill in the missing lines to define a class `Circle`, which takes in the radius and has a method to calculate the area of the circle."
   ]
  },
  {
   "cell_type": "code",
   "execution_count": 118,
   "id": "da2f506d-9729-4fb4-8989-616871d3c241",
   "metadata": {
    "tags": []
   },
   "outputs": [],
   "source": [
    "# create the class here\n",
    "class Circle():\n",
    "    # create constructor:\n",
    "    \n",
    "    # create area method:\n",
    "    "
   ]
  },
  {
   "cell_type": "code",
   "execution_count": 120,
   "id": "c63dbe26-de95-476f-a713-d25dc7ae8485",
   "metadata": {
    "tags": []
   },
   "outputs": [
    {
     "data": {
      "text/plain": [
       "78.53981633974483"
      ]
     },
     "execution_count": 120,
     "metadata": {},
     "output_type": "execute_result"
    }
   ],
   "source": [
    "# we can test that your class works here:\n",
    "circle1 = Circle(5)\n",
    "circle1.area()"
   ]
  },
  {
   "cell_type": "markdown",
   "id": "5f98a075-20b6-478d-bbbc-4893ba103325",
   "metadata": {},
   "source": [
    "If we check the `type` of our new object, we'll see that we have created a new data type that the computer knows to recognize!"
   ]
  },
  {
   "cell_type": "code",
   "execution_count": 163,
   "id": "03ba00dd-abee-4080-a1ee-e5a14c29beb5",
   "metadata": {
    "tags": []
   },
   "outputs": [
    {
     "data": {
      "text/plain": [
       "__main__.Circle"
      ]
     },
     "execution_count": 163,
     "metadata": {},
     "output_type": "execute_result"
    }
   ],
   "source": [
    "type(circle1)"
   ]
  },
  {
   "cell_type": "markdown",
   "id": "d7592c6f-688e-4612-8669-0121ee462cd0",
   "metadata": {},
   "source": [
    "Now let's try to make a class that is more useful in an astronomy context. Define a class `Body` which will characterize (spherical) physical objects for our orbit integrator --- this should take as inputs a name, mass, and radius. Include a method to calculate the density of the object."
   ]
  },
  {
   "cell_type": "code",
   "execution_count": 121,
   "id": "d65f8d9d-06db-4ea8-9f0d-7f739c5a875d",
   "metadata": {
    "tags": []
   },
   "outputs": [],
   "source": [
    "# your code here\n"
   ]
  },
  {
   "cell_type": "markdown",
   "id": "0a506962-36d3-48c4-a7f6-5c3ed7542d68",
   "metadata": {},
   "source": [
    "Let's test this out while also practicing how we can work with units in python. Because we as astronomers work across a wide range of scales in our problems, we tend to work in a variety of different unit systems depending on the problems that we are tackling. As our problems get more complex (and our code more intricate), keeping track of the units and ensuring that everything is kosher can be challenging. There are a variety of ways to effectively do this, but for our purposes we'll use one of the most powerful packages for astronomical python coding: `astropy`. We've already used `astropy` to read in `.fits` files, but now will explore the functionality of its units package. In the block below we've imported the package and done a basic unit conversion for demonstration purposes."
   ]
  },
  {
   "cell_type": "code",
   "execution_count": 131,
   "id": "8404a23d-da9c-4a99-8833-661d19bf1d1b",
   "metadata": {
    "tags": []
   },
   "outputs": [
    {
     "data": {
      "text/latex": [
       "$4.4879361 \\times 10^{8} \\; \\mathrm{km}$"
      ],
      "text/plain": [
       "<Quantity 4.48793612e+08 km>"
      ]
     },
     "execution_count": 131,
     "metadata": {},
     "output_type": "execute_result"
    }
   ],
   "source": [
    "import astropy.units as u\n",
    "tmp = 3*u.AU # 3 times the distance to the sun\n",
    "tmp.to(u.km) # convert to kilometers"
   ]
  },
  {
   "cell_type": "code",
   "execution_count": 132,
   "id": "985bc87e-3f70-4479-a434-98f5e8501362",
   "metadata": {
    "tags": []
   },
   "outputs": [
    {
     "data": {
      "text/plain": [
       "3.0"
      ]
     },
     "execution_count": 132,
     "metadata": {},
     "output_type": "execute_result"
    }
   ],
   "source": [
    "# to strip the unit from the quantity, use the .value attribute\n",
    "tmp.value"
   ]
  },
  {
   "cell_type": "markdown",
   "id": "86d7f2b5-9004-4e59-91f9-ae8058807304",
   "metadata": {},
   "source": [
    "Okay, use the astropy unit infrastructure to make sure that everything in your class is in cgs."
   ]
  },
  {
   "cell_type": "code",
   "execution_count": 137,
   "id": "0698c10d-ca91-486f-aefc-6e7d4c274e2f",
   "metadata": {
    "tags": []
   },
   "outputs": [],
   "source": [
    "# redo the Body class below with unitful calculations\n"
   ]
  },
  {
   "cell_type": "code",
   "execution_count": 138,
   "id": "0512dcc7-b04d-48fa-a029-10e32aad9ba5",
   "metadata": {
    "tags": []
   },
   "outputs": [
    {
     "data": {
      "text/latex": [
       "$5.4950219 \\; \\mathrm{\\frac{g}{cm^{3}}}$"
      ],
      "text/plain": [
       "<Quantity 5.49502187 g / cm3>"
      ]
     },
     "execution_count": 138,
     "metadata": {},
     "output_type": "execute_result"
    }
   ],
   "source": [
    "# if everything in your class is defined correctly, \n",
    "# you should be able to run this cellblock and get the same output\n",
    "Earth = Body(mass=1*u.M_earth,\n",
    "             radius = 1*u.R_earth,\n",
    "             name='Earth')\n",
    "Earth.density()"
   ]
  },
  {
   "cell_type": "markdown",
   "id": "78979bd5-33cd-4452-a05a-e1259270b1bd",
   "metadata": {},
   "source": [
    "## orbit integration\n",
    "Okay now that we've gotten a little familiar with classes, we can go ahead and jump into the good stuff. Our goal for today is to describe the motion of particles in a system in response to their gravitational forces. \n",
    "\n",
    "In the simplest version of our orbits problem, we’re going to integrate the n-body problem in physics – that is, the earth moon, or earth moon sun, or solar system. We all know Newton’s famous equations for gravity and acceleration, which allow us to write for some object that\n",
    "$$F = \\frac{GMm}{r^2} = ma \\implies \\frac{GM}{r^3}\\vec{\\mathbf{r}} = \\vec{\\mathbf{a}}$$\n",
    "where $\\vec{\\mathbf{r}}$ is the position vector between the object and some other object of mass $M$. The above allows us to calculate the acceleration (magnitude and direction) induced in some object by the gravitational attraction of another object.\n",
    "\n",
    "If we then apply this to a system of objects, we can use that equation to calculate the mutual gravitational force/acceleration between all the different pairs in our system. Our general procedure will be as follows:\n",
    "1. Define a collection of objects with known masses, position, and velocity vectors\n",
    "2. For a given timestep $dt$, we'll calculate the accelerations according to the equation above\n",
    "3. We'll then use the acceleration to figure out how much each object's velocity changed over $dt$\n",
    "4. Use our velocities to change the positions of the objects\n",
    "5. Save these new positions and velocities and start again from step 2.\n",
    "\n",
    "To do this, we're going to use our knowledge of classes. By defining our own classes, we'll be able to neatly package all the components of our code --- we can create `Body` objects to represent all the objects in our system and then feed all those bodies into a `Simulation` object, where we'll do all the calculations to figure out how the objects will move in response to their mutual gravity.\n",
    "\n",
    "In the cell below, create a new `Body` class that takes in a name, 3D position vector (e.g., `x = np.array([1,0,0])`), and 3D velocity vector for our object. Make sure that these get converted into cgs units in the class."
   ]
  },
  {
   "cell_type": "code",
   "execution_count": 139,
   "id": "f0c82a34-ec87-458d-b59c-7de76d9668fe",
   "metadata": {
    "tags": []
   },
   "outputs": [],
   "source": [
    "# first, some imports\n",
    "import numpy as np \n",
    "import matplotlib.pyplot as plt \n",
    "import astropy.units as u \n",
    "import astropy.constants as c \n",
    "import time"
   ]
  },
  {
   "cell_type": "code",
   "execution_count": 140,
   "id": "cb7da988-7f84-42a0-bad3-74d7f8407fb4",
   "metadata": {
    "tags": []
   },
   "outputs": [],
   "source": [
    "# your class here:\n",
    "        "
   ]
  },
  {
   "cell_type": "markdown",
   "id": "8e309eae-788c-4348-998b-6c58771e30bd",
   "metadata": {},
   "source": [
    "Now let's add some methods to this class. Add `return_mass()` and `return_name()` to return the mass and names of the object, respectively. Also, we'll want to associate an overall position and velocity vector with each object, so add a method `return_vec()` which puts the position vector into the first element of a list and the velocity into the second element like so:\n",
    "$$\n",
    "\\mathbf{y} = \\begin{pmatrix}\n",
    "\\vec{\\mathbf{x}} \\\\\n",
    "\\dot{\\vec{\\mathbf{x}}}\n",
    "\\end{pmatrix}\n",
    "$$"
   ]
  },
  {
   "cell_type": "code",
   "execution_count": 141,
   "id": "c039ab42-0783-4c68-81d2-c410b386b336",
   "metadata": {
    "tags": []
   },
   "outputs": [],
   "source": [
    "# your code here"
   ]
  },
  {
   "cell_type": "markdown",
   "id": "f25d86c1-8713-42b7-a610-94b59d31f7a3",
   "metadata": {},
   "source": [
    "Test your code by running the cell block below. Your output should match what we got for the `return_vec()` method!"
   ]
  },
  {
   "cell_type": "code",
   "execution_count": 145,
   "id": "16865d4f-ffc4-4fbc-ac95-fdd423b46bb4",
   "metadata": {
    "tags": []
   },
   "outputs": [
    {
     "name": "stdout",
     "output_type": "stream",
     "text": [
      "[[      0.       0.       0.]\n",
      " [      0. 1000000.       0.]]\n",
      "Earth\n"
     ]
    }
   ],
   "source": [
    "Earth = Body(mass=1*u.M_earth,\n",
    "             x_vec=np.array([0,0,0])*u.km,\n",
    "             v_vec=np.array([0,10,0])*u.km/u.s,\n",
    "             name='Earth')\n",
    "print(Earth.return_vec())\n",
    "print(Earth.return_name())"
   ]
  },
  {
   "cell_type": "markdown",
   "id": "3726c756-c921-4c04-9f07-1b7a9ba8be42",
   "metadata": {},
   "source": [
    "Okay, now we can start to build our `Simulation` class. Create this class and have it only take one input, `bodies`, which will be a list of `Body` objects. For example, if our system were the Sun-Earth system, we would set up our simulation like the code block below. Within the constructor (the `__init__` method) you'll need to:\n",
    "- set an attribute `self.N_bodies` that tells us the number of bodies in our simulation\n",
    "- set an attribute `self.quant_vec` that combines all the position and velocity vectors for our objects as follows:\n",
    "$$\n",
    "y_{\\rm system} = \n",
    "\\begin{pmatrix}\n",
    "\\vec{\\mathbf{x}}_1 \\\\\n",
    "\\dot{\\vec{\\mathbf{x}}}_1 \\\\\n",
    "\\vec{\\mathbf{x}}_2 \\\\\n",
    "\\dot{\\vec{\\mathbf{x}}}_2\n",
    "\\end{pmatrix}\n",
    "$$\n",
    "_(hint: it might be useful to consult `np.concatentate` for this)_\n",
    "- set attributes `self.mass_vec` and `self.name_vec` that are similar"
   ]
  },
  {
   "cell_type": "code",
   "execution_count": 147,
   "id": "b292efa6-37f5-4806-9a80-ada9cb49f4da",
   "metadata": {
    "tags": []
   },
   "outputs": [],
   "source": [
    "# simulation class here"
   ]
  },
  {
   "cell_type": "code",
   "execution_count": 148,
   "id": "f216d7fb-0b1d-4550-85c0-5faa71cb048b",
   "metadata": {
    "tags": []
   },
   "outputs": [],
   "source": [
    "Earth = Body(name='Earth',\n",
    "             x_vec = np.array([0,1,0])*u.AU,\n",
    "             v_vec = np.array([0,30,0])*u.km/u.s,\n",
    "             mass = 1.0*u.M_earth) \n",
    "Sun = Body(name='Sun',\n",
    "           x_vec = np.array([0,0,0])*u.AU,\n",
    "           v_vec = np.array([0,0,0])*u.km/u.s,\n",
    "           mass = 1*u.Msun)\n",
    "\n",
    "bodies = [Earth,Sun]\n",
    "\n",
    "my_simulation = Simulation(bodies) "
   ]
  },
  {
   "cell_type": "markdown",
   "id": "7237fa7a-579a-4b9e-b009-7080e6c42ff8",
   "metadata": {},
   "source": [
    "If everything is ok so far, we should get a `quant_vec` that looks like the following."
   ]
  },
  {
   "cell_type": "code",
   "execution_count": 149,
   "id": "5047fcd7-c131-4639-b66b-b19ad26f17d2",
   "metadata": {
    "tags": []
   },
   "outputs": [
    {
     "data": {
      "text/plain": [
       "array([[0.00000000e+00, 1.49597871e+13, 0.00000000e+00],\n",
       "       [0.00000000e+00, 3.00000000e+06, 0.00000000e+00],\n",
       "       [0.00000000e+00, 0.00000000e+00, 0.00000000e+00],\n",
       "       [0.00000000e+00, 0.00000000e+00, 0.00000000e+00]])"
      ]
     },
     "execution_count": 149,
     "metadata": {},
     "output_type": "execute_result"
    }
   ],
   "source": [
    "my_simulation.quant_vec"
   ]
  },
  {
   "cell_type": "markdown",
   "id": "6f55023e-9790-442d-a59d-125df371a892",
   "metadata": {},
   "source": [
    "Our first method here is going to be a simple setter, which will allow the user (us) to input a separate, externally written function which evaluates the differential equation at hand into our `Simulation`. Why do this? If all you were doing was a gravity-based N-body code, you wouldn’t, you’d just include it in the class. But with this modular set up, we can use our integrator to solve both using traditional N-body gravity as well as using, e.g., gravitational potentials. The actual step of calculating accelerations is different in this case, but we can write our separate solving functions to do this and read it into our `Simulation`. Add the following method to your `Simulation` class"
   ]
  },
  {
   "cell_type": "code",
   "execution_count": 150,
   "id": "de993566-52dd-450f-88bc-13f734977f97",
   "metadata": {
    "tags": []
   },
   "outputs": [],
   "source": [
    "def set_diff_eq(self, calc_diff_eqs, **kwargs):\n",
    "    '''\n",
    "    Method which assigns an external solver function as the diff-eq solver for RK4. \n",
    "    For N-body or gravitational setups, this is the function which calculates accelerations.\n",
    "    \n",
    "    Parameters\n",
    "    ----------\n",
    "        calc_diff_eqs: A function which returns a [y] vector for RK4\n",
    "        **kwargs: Any additional inputs/hyperparameters the external function requires\n",
    "    '''\n",
    "    self.diff_eq_kwargs = kwargs\n",
    "    self.calc_diff_eqs = calc_diff_eqs"
   ]
  },
  {
   "cell_type": "markdown",
   "id": "76b7aaf5-0de0-44a7-9df0-265f0ce8c0b4",
   "metadata": {},
   "source": [
    "What’s going on above? The method takes as an argument a handle or reference to some externally written function which it internally refers to as `calc_diff_eqs`. The method also allows for the entry of keyword arguments, which will come in handy later. Then it just sets class attributes for them so that other methods in the class can access them."
   ]
  },
  {
   "cell_type": "markdown",
   "id": "53c8d1ec-a233-48a0-9523-b825772f7bc9",
   "metadata": {},
   "source": [
    "## the integrator\n",
    "In order to solve these differential equations and evolve our system forward in time, we're going to use an algorithm called Runge-Kutta integration.\n",
    "\n",
    "For the purposes of this workshop, you don't really need to understand how Runge-Kutta integration works, but the short explanation is that whenever you perform a **numerical integration** (i.e., take a timestep dt, calculate, repeat), you introduce **error** into your positions due to the finite step size you took. This error is reduced with smaller dt's, but this increases how many steps you have to take to integrate the same amount of total time. \n",
    "\n",
    "We call an integrater **linear** or **first order** if it is the case that reducing your time step-size by a factor of ten results in a factor of 10 reduction in accumulated error. The method of direct integration, in which the update looks like: \n",
    "$$\n",
    "a = \\frac{GM}{r^3}\\vec{x}\n",
    "$$\n",
    "$$\n",
    "x_{t+dt} = x_t + v_t(dt) + \\frac{1}{2}a(dt)^2\n",
    "$$\n",
    "$$\n",
    "v_{t+dt} = v_t + a(dt)\n",
    "$$\n",
    "\n",
    "\n",
    "extrapolates the new position and new velocity from the current position and acceleration. A more clever scheme can actually calculate accelerations/positions at intermediary points between $t$ and $t+dt$. We call these **higher order** schemes, and they are classified by how the accumulated error scales with time step size. Basically, the output of these numerical integrators looks like \n",
    "\n",
    "$$\n",
    "y_{t+dt} = y_t + dt \\times \\sum_{i=1}^{s} a_i k_i + \\mathcal{O}(dt^{s+1})\n",
    "$$\n",
    "\n",
    "That is, each new position is the old position plus $dt$ times some update which carries with it some error which scales with some power of the timestep. A scheme (like rk4 -- which we will be using today) is considered fourth order because each step has an error that scales with $\\mathcal{O}(dt^{-5})$, and an accumulated error across all steps that scales as $\\mathcal{O}(dt^{-4})$. \n",
    "\n",
    "### the algorithm\n",
    "Here is the formula for rk4 (where $f$ is the function that gives us the time derivative of our position and velocity vectors):\n",
    "\n",
    "$$\n",
    "\\begin{array}{l}k_{1}=dt\\times f\\left(t_{n}, y_{n}\\right) \\\\ k_{2}=dt\\times f\\left(t_{n}+\\frac{dt}{2}, y_{n}+\\frac{k_{1}}{2}\\right) \\\\ k_{3}=dt\\times f\\left(t_{n}+\\frac{dt}{2}, y_{n}+\\frac{k_{2}}{2}\\right) \\\\ k_{4}=dt\\times f\\left(t_{n}+dt, y_{n}+k_{3}\\right)\\end{array}\n",
    "$$\n",
    "\n",
    "where the above are combined to return the next $y$ vector as follows: \n",
    "\n",
    "$$\n",
    "\\begin{aligned} y_{n+1} &=y_{n}+\\frac{1}{6}\\left(k_{1}+2 k_{2}+2 k_{3}+k_{4}\\right) \\\\ t_{n+1} &=t_{n}+dt \\end{aligned}\n",
    "$$\n",
    "\n",
    "You can think of the $k$'s (with the dt multiplication) as being estimates for the new $y$, which are progressively more refined.\n",
    "\n",
    "- The $k_1$ is actually just what you would get from a first order, direct integration. It is the timestep multiplied by the evaluation of the differential equation at t and $y_n$ (the generalized vector). \n",
    "- Next, $k_2$ is an estimate for $y$, but this time at the half-step mark in time, $dt/2$ and at the position ($y_n + k_1/2$). That is, at half the distance predicted by the first-order step. \n",
    "- Next, $k_3$ evaluates the diff equation $t+dt/2$ but at the position ($y_n + k_2/2$), half the distance estimated by the previous step. \n",
    "- Finally, $k_4$ is the evaluation of the diff eq at the full timestep dt, at the $k_3$ position. \n",
    "\n",
    "These then get added together but in a weighted way, as described by the algorithm."
   ]
  },
  {
   "cell_type": "markdown",
   "id": "bb7fc64e-1e30-4467-a61b-270f40719076",
   "metadata": {},
   "source": [
    "### a quick demonstration\n",
    "In the cells below, let's try to use this algorithm for a simple differential equation, the **simple harmonic oscillator** (which describes, for example, the motion of a spring). The equation of motion for this system is:\n",
    "$$\n",
    "\\ddot{x} = -\\omega^2 x\n",
    "$$\n",
    "\n",
    "which can be separated into two equations:\n",
    "\n",
    "$$\n",
    "\\frac{dx}{dt} = \\vec{v}\n",
    "$$\n",
    "\n",
    "$$\n",
    "\\frac{d\\vec{v}}{dt} = -\\omega^2 x\n",
    "$$\n",
    "\n",
    "The framework for a rk4 method is given below --- fill in the missing pieces according to the algorithm above."
   ]
  },
  {
   "cell_type": "code",
   "execution_count": 155,
   "id": "c90831ca-bf03-4248-8185-07d11b63490c",
   "metadata": {
    "tags": []
   },
   "outputs": [],
   "source": [
    "def rk4(t,dt,y,evaluate):\n",
    "    '''\n",
    "    Given a vector y with [x,xdot], calculate the new y for step dt,\n",
    "    using rk4 method\n",
    "    \n",
    "    - note that 'evaluate' is our f(t, y), which tells us how our positions and velocities change\n",
    "    '''\n",
    "    k1 = dt * evaluate(t, y)\n",
    "    k2 = dt * evaluate(t + 0.5*dt, _______)\n",
    "    k3 = dt * evaluate(_______, _______)\n",
    "    k4 = dt * evaluate(_______, y + k3)\n",
    "    \n",
    "    y_new = y + (1/6.)*(k1+ 2*k2 + 2*k3 + k4)\n",
    "    return y_new"
   ]
  },
  {
   "cell_type": "markdown",
   "id": "c08adc51-a1b0-4405-b87b-1f17e5c79de6",
   "metadata": {},
   "source": [
    "For a simple harmonic oscillator, the evaluation function looks something like this:"
   ]
  },
  {
   "cell_type": "code",
   "execution_count": 164,
   "id": "db7e18fa-5ffb-4ce7-98bb-37c8f9c9e1af",
   "metadata": {
    "tags": []
   },
   "outputs": [],
   "source": [
    "def evaluate_SHO(t,y,omega=1):\n",
    "    '''\n",
    "    evaluate the SHO at time t and y=y. \n",
    "    '''\n",
    "    v = y[1] # remember the vector y is [x, xdot]\n",
    "    a = -omega**2 * y[0] \n",
    "    return np.array([v,a])"
   ]
  },
  {
   "cell_type": "markdown",
   "id": "bb31cf63-f6c4-40c2-982f-4dfb3a0c44a7",
   "metadata": {},
   "source": [
    "That should be all the pieces we need! Let's try it out in the cell below, where we'll set up a very simple integration. We've already set this up for you but read through the lines and check that what's happening makes sense to you."
   ]
  },
  {
   "cell_type": "code",
   "execution_count": 156,
   "id": "bb063b94-e39c-405a-9f01-f92657d5a0fd",
   "metadata": {
    "tags": []
   },
   "outputs": [],
   "source": [
    "# Running a small integration\n",
    "\n",
    "y_0 = np.array([-5,0]) #initialize oscillator at x = -5, with 0 velocity. \n",
    "history = [y_0]\n",
    "ts = [0]\n",
    "dt = 0.01\n",
    "T = 10\n",
    "nsteps = int(T/dt)\n",
    "t=0\n",
    "for i in range(nsteps):\n",
    "    y_new = rk4(t,dt,history[-1],evaluate_SHO)\n",
    "    history.append(y_new)\n",
    "    t = ts[-1] + dt\n",
    "    ts.append(t)\n",
    "history = np.array(history)\n",
    "ts = np.array(ts)"
   ]
  },
  {
   "cell_type": "markdown",
   "id": "9ed09c32-5d8d-476a-b78e-4556c0cc8231",
   "metadata": {
    "tags": []
   },
   "source": [
    "We know the real (read, not numerical) solution to this problem; we should find velocities and positions that look like:\n",
    "$$\n",
    "x(t) = - 5\\cos(t)\n",
    "$$\n",
    "\n",
    "$$\n",
    "v(t) = 5\\sin(t)\n",
    "$$"
   ]
  },
  {
   "cell_type": "code",
   "execution_count": null,
   "id": "2517708e-bf3a-4cd4-ae5f-b2796bfd80ce",
   "metadata": {
    "tags": []
   },
   "outputs": [],
   "source": [
    "analytical_solution = -5*np.cos(ts)\n",
    "analytical_velocity = 5*np.sin(ts)\n",
    "fig, ax = plt.subplots(2,1,figsize=(12,6),sharex=True)\n",
    "ax[0].plot(ts,history[:,0],color='C0',lw=6,ls='--',label='Position (rk4)',alpha=0.5)\n",
    "ax[0].plot(ts,analytical_solution,color='r',label='Analytical Solution')\n",
    "ax[1].plot(ts,history[:,1],color='C1',lw=6,alpha=0.5,ls='--',label='Velocity (rk4)')\n",
    "ax[1].plot(ts,analytical_velocity,'C2',label='Analytical Solution')\n",
    "ax[0].legend(loc=\"upper center\")\n",
    "ax[1].legend(loc=\"upper center\")\n",
    "ax[-1].set_xlabel('time')"
   ]
  },
  {
   "cell_type": "markdown",
   "id": "79850b84-127e-4384-8fc5-960807db27e6",
   "metadata": {},
   "source": [
    "## back to the orbits\n",
    "The output from the rk4 is a weighted average of several calculated estimates for amount our system evolves in dt (in this case, how far our particles move). As a reminder, we're solving 2 diff eqs here, \n",
    "$$\n",
    "\\frac{d\\vec{x}}{dt} = \\vec{v}\n",
    "$$\n",
    "$$\n",
    "\\frac{d\\vec{v}}{dt} = \\vec{a}\n",
    "$$\n",
    "So, our solved vector has these two results stacked on top of each other so we can do it simultaneously. Because $f$ is stacked velocities and accelerations, multiplying by $dt$ produces positions and velocities (our normal $y$ vector). \n",
    "\n",
    "- Define a method for your `Simulation` class called `rk4` which takes in `self`,`t`, and `dt` as parameters. Then, calculate all the $k$ values and generate a new $y$ vector. Your method will make calls to whatever the current ``self.quant_vec`` variable is. "
   ]
  },
  {
   "cell_type": "code",
   "execution_count": null,
   "id": "2f3ff262-7a20-4b19-8f40-fa0850af1a3e",
   "metadata": {},
   "outputs": [],
   "source": [
    "def rk4(self,t,dt):\n",
    "    '''\n",
    "    RK4 integrator. Calculates the K values and returns a new y vector\n",
    "    --------------------------------\n",
    "    Params:\n",
    "        t: a time. Only used if the diff eq depends on time (gravity doesn't).\n",
    "        dt: timestep. Non adaptive in this case\n",
    "    '''\n",
    "    k1 = dt * self.calc_diff_eqs(t, self.quant_vec, self.mass_vec,**self.diff_eq_kwargs) \n",
    "    k2 = # your code here!\n",
    "    k3 = # your code here!\n",
    "    k4 = # your code here!\n",
    "    y_new = # your code here\n",
    "\n",
    "    return y_new"
   ]
  },
  {
   "cell_type": "markdown",
   "id": "95318f1f-ec22-40c9-8ce9-dc8f3f171697",
   "metadata": {},
   "source": [
    "Next, you'll want to add a `run()` method to your simulation class. We've given you the shell of the method (with some documentation to describe what it should do) and you should fill it in accordingly.\n",
    "\n",
    "Within your ``run()`` method, go through and repeat the procedure of converting the inputs into cgs units and then stripping the units to leave numbers\n",
    "\n",
    "Once that's done, we need to calculate the number of steps in our simulation. This is simply given by \n",
    "\n",
    "$$\n",
    "N_{\\rm steps} = \\frac{T-t_0}{dt},\n",
    "$$\n",
    "coerced to be an integer. Generally we're ok starting at t=0 in our simulation, but you could imagine having an actual starting time for some reason.\n",
    "\n",
    "- In your ``run()`` method, calculate nsteps, the number of steps needed to integrate for time (T-t0) with stepsizes of dt. \n",
    "- Set up the ``history`` attribute which will store all the `y` vectors we calculate so we can visualize the orbits later. Start it as a list containing the initial vector, `quant_vec`. \n",
    " - Then, write a for-loop that says for i in range(nsteps), ``new_y`` is the output of our rk4 method evaluated for ``rk4(0,dt)``. Append this `new_y` to the `history`, and then overwrite `quant_vec` to be `new_y`. \n",
    " \n",
    "You might be wondering why we run our rk4 with the arguments (0,dt). Isn't the first argument supposed to be some time $t$? \n",
    "\n",
    "This is actually a quirk of our particular problem. See, the diff-eq at hand, for $\\ddot{x}$, does not depend on time. It only depend on mass and position. It's common for diff eqs to depend on time as well, and our code is set up to handle that. But, as we'll discover in a moment, the $t$ values that get plugged into our ``calc_diff_eqs`` function (in the calculation of each k) actually get thrown out within the actual acceleration calculation because they're not needed. If you *did* need them though, you'd have them."
   ]
  },
  {
   "cell_type": "code",
   "execution_count": null,
   "id": "d18c6aa8-592b-4d64-94e2-c40bc7725f9b",
   "metadata": {},
   "outputs": [],
   "source": [
    "def run(self,T,dt,t0=0):\n",
    "    '''\n",
    "    Method which runs the simulation on a given set of bodies.\n",
    "    \n",
    "    Parameters\n",
    "    ----------\n",
    "        T: total time (in simulation units) to run the simulation.\n",
    "        dt: timestep (in simulation units) to advance the simulation. Same as above\n",
    "        t0 (optional): set a non-zero start time to the simulation.\n",
    "\n",
    "    Returns\n",
    "    -------\n",
    "        None, but leaves an attribute history accessed via \n",
    "        'simulation.history' which contains all y vectors for the simulation. \n",
    "        These are of shape (Nstep, Nbodies * 2, 3), so the [x, y, z] positions of particle 1 are\n",
    "        simulation.history[:,0], while the same for particle 2 are\n",
    "        simulation.history[:,2]. Velocities are similarly extractable.\n",
    "    '''\n",
    "    "
   ]
  },
  {
   "cell_type": "markdown",
   "id": "cfca0915-862f-47e7-85ec-6f9a02f00e45",
   "metadata": {},
   "source": [
    "## The Acceleration Calculation\n",
    "\n",
    "None of what we've talked about within our integrator so far has had any physics involved -- only diff eq work. It's now time to actually compute the accelerations as needed by our `rk4()` integrator. This is going to be the external function that gets read into our `Simulation`, and will be different depending on the problem.\n",
    "\n",
    "In *principle*, calculating the accelerations between the bodies at each time step is trivial --- simply apply Newton's law. In *practice* this gets a little annoying, because recall, all our objects are stored in a vector that looks like \n",
    "\n",
    "$$\n",
    "y = \\left(\\begin{matrix} x_1 \\\\ \\dot{x}_1 \\\\ x_2 \\\\ \\dot{x}_2 \\\\ x_3 \\\\ \\dot{x}_3 \\\\ \\end{matrix}\\right)\n",
    "$$\n",
    "\n",
    "So we need some funky indexing to extract each body's values. Since it is pretty unintuitive to set this up, the function is provided below"
   ]
  },
  {
   "cell_type": "code",
   "execution_count": null,
   "id": "cd0a8d54-25b4-40dc-b277-4f0c8731bad4",
   "metadata": {},
   "outputs": [],
   "source": [
    "def nbody_solve(t,y,masses):\n",
    "    N_bodies = int(len(y) / 2)\n",
    "    solved_vector = np.zeros(y.shape)\n",
    "    for i in range(N_bodies): # for every body\n",
    "        ioffset = i*2\n",
    "        for j in range(N_bodies): # iterate over every other body to calculate acceleration\n",
    "            joffset = j*2\n",
    "            solved_vector[ioffset] = y[ioffset+1] # set new 'positions' to be old velocities (will later be multiplied by dt)\n",
    "            if i != j:\n",
    "                dr = y[ioffset] - y[joffset] # this will be [dx, dy, dz] between body i and body j\n",
    "                r = np.sqrt(np.sum(dr**2)) # radial distance between the two bodies\n",
    "                a = ((-c.G.cgs * masses[j] / r**3) * dr).value # acceleration due to gravity\n",
    "                solved_vector[ioffset+1] += a # add contributions to accel from all the other objects           \n",
    "    return solved_vector "
   ]
  },
  {
   "cell_type": "markdown",
   "id": "e85d741e-5ace-4532-ae69-63e5cecd80ae",
   "metadata": {},
   "source": [
    "Okay, what the heck is going on up there? \n",
    "\n",
    "We should first point out that what this spits out, `solved_vector`, is different than the $y$-vectors we've been working with. We can call this an $f$-vector. This is a vector needed by our `rk4()` solver, whose job it is to calculate positions from **velocities and accelerations**. So, you'll notice as you follow along that while the vector input to this function looks like, e.g., \n",
    "$$\n",
    "y = \\left(\\begin{matrix} x_1 \\\\ \\dot{x}_1 \\\\ x_2 \\\\ \\dot{x}_2 \\\\ x_3 \\\\ \\dot{x}_3 \\\\ \\end{matrix}\\right)\n",
    "$$\n",
    "the output vector should look like \n",
    "\n",
    "$$\n",
    "f = \\left(\\begin{matrix} \\dot{x}_1 \\\\ \\ddot{x}_1 \\\\ \\dot{x}_2 \\\\ \\ddot{x}_2 \\\\ \\dot{x}_3 \\\\ \\ddot{x}_3 \\\\ \\end{matrix}\\right)\n",
    "$$\n",
    "\n",
    "That is, velocities and accelerations. Here's the function above:\n",
    "\n",
    "**First**, notice that `nbody_solve()` reads in some time `t`, despite never using one. This is related to the `rk4()` quirk above --- since this diff eq has no time dependence, it's just a dummy variable. \n",
    "\n",
    "**Second**: We find the number of bodies, which is given by the length of the array divided by 2 (the number of indices belonging to each body in the list). I then set up an empty ``solved_vector`` array that is the right size to take in new calculated values.\n",
    "\n",
    "**Third**: We iterate over the bodies with a `for-loop`, and set a ticker variable `ioffset` to be `i*2`. This allows us to index the $i^{th}$ body with indices 0 and 1 relative to the offset of that body with respect to the total array. Again, 2 because each body has 2 indices of information. \n",
    "\n",
    "**Fourth**: We iterate over the bodies **again** in an inner `for-loop`, because we need to calculate the acceleration on each body by each other body. This is why direct N-body solvers are slow, and scale as $O(N^2)$. You can't get around calculating each pairwise acceleration (without making some shortcuts). The first thing we do in this second for loop is make sure `i!=j`, that is, don't calculate the acceleration of object a on object a. Not only is that not needed (there is none), it also causes a divide by 0 lower down if we allow it. \n",
    "\n",
    "**Fifth**: Finally, physics. We get the $\\vec{x}$ vector by subtracting the appropriate x, y, and z components of the positions between the $i^{th}$ and $j^{th}$ object, use those to get the total distance vector, and use the two of them to calculate the components of the acceleration. We strip some units (since we're using `astropy`'s G), and then **add to** the appropriate indices of the solved vector the calculated accelerations. That `+=` is important. Remember, the **total** acceleration (magnitude and direction) felt by object $a$ is simply the sum of all the individual acceleration vectors from the other objects.\n",
    "\n",
    "**Remember**, no matter what diff-eq you're trying to solve with your integrator, the rk4 will want these quantities in this form. "
   ]
  },
  {
   "cell_type": "markdown",
   "id": "1b4d22ce-eba7-4947-b2c7-46e02187c76e",
   "metadata": {},
   "source": [
    "Combine everything into a complete `Simulation` object below:"
   ]
  },
  {
   "cell_type": "code",
   "execution_count": 162,
   "id": "30e7ff15-b9b5-4964-9b40-aed4580807d0",
   "metadata": {
    "tags": []
   },
   "outputs": [],
   "source": [
    "# complete simulation object here"
   ]
  },
  {
   "cell_type": "markdown",
   "id": "562a494e-1c4b-4171-98f8-83cbf9318542",
   "metadata": {},
   "source": [
    "## the big test\n",
    "Over the course of this tutorial, we've built up a powerful, fourth order integrater that is also easy to set up and use to solve N-body dynamics. We are actually more or less done at this point. If all has gone well, we should be able to run our simulation like the following, where we've set up the Earth-Moon system. "
   ]
  },
  {
   "cell_type": "code",
   "execution_count": null,
   "id": "eda1ccb9-9833-4d68-9d32-3e604a5491f0",
   "metadata": {
    "tags": []
   },
   "outputs": [],
   "source": [
    "M_moon = (7.347e22*u.kg).cgs\n",
    "v_moon = np.array([0,1.022,0])*u.km/u.s\n",
    "moon_momentum = M_moon * v_moon\n",
    "\n",
    "Moon = Body(mass=M_moon,\n",
    "           x_vec = np.array([3.84e5,0,0])*u.km,\n",
    "           v_vec = v_moon,\n",
    "           name='Moon')\n",
    "\n",
    "#calculate reciprocal momentum for Earth\n",
    "v_earth = - (moon_momentum / c.M_earth).to(u.km/u.s).value\n",
    "\n",
    "Earth = Body(mass=c.M_earth.cgs,\n",
    "             x_vec=np.array([0,0,0])*u.km,\n",
    "             v_vec=np.array(v_earth)*u.km/u.s,\n",
    "             name='Earth')\n",
    "\n",
    "bodies = [Earth,Moon]\n",
    "\n",
    "simulation = Simulation(bodies)\n",
    "simulation.set_diff_eq(nbody_solve)\n",
    "\n",
    "simulation.run(72*u.day,1*u.hr)"
   ]
  },
  {
   "cell_type": "code",
   "execution_count": 52,
   "id": "6f2ddc4a-b920-4d22-b56c-7eaaae516f71",
   "metadata": {
    "tags": []
   },
   "outputs": [],
   "source": [
    "# extract the positions and velocities from the simulation history\n"
   ]
  },
  {
   "cell_type": "code",
   "execution_count": null,
   "id": "51194ff4-505c-4a65-bff3-c40e7d534cbe",
   "metadata": {
    "tags": []
   },
   "outputs": [],
   "source": [
    "# plot the orbit of the moon around the earth -- exciting, isnt it!\n",
    "plt.scatter(______, ______, s = 5, color = 'skyblue')\n",
    "plt.scatter(______, ______, s = 5, color = 'grey')"
   ]
  },
  {
   "cell_type": "markdown",
   "id": "82149131-fc32-4631-a09e-4828f3b2fb11",
   "metadata": {},
   "source": [
    "We could also make things a bit more interesting. Try to set up some sample 3-body systems in the cells below and plot what their orbits look like. Here's an example of the kind of neat stuff you can generate with this:"
   ]
  },
  {
   "cell_type": "code",
   "execution_count": 106,
   "id": "79528221-0969-4e18-9540-bfc63c8ba251",
   "metadata": {
    "tags": []
   },
   "outputs": [
    {
     "data": {
      "text/plain": [
       "(-50.0, 50.0)"
      ]
     },
     "execution_count": 106,
     "metadata": {},
     "output_type": "execute_result"
    },
    {
     "data": {
      "image/png": "[encoded data removed]",
      "text/plain": [
       "<Figure size 800x800 with 1 Axes>"
      ]
     },
     "metadata": {},
     "output_type": "display_data"
    }
   ],
   "source": [
    "# this plot is for\n",
    "m1, m2, m3 = 30.9*u.Msun, 32.7*u.Msun, 13.5*u.Msun\n",
    "v1 = np.array([-4.346, -2.051, 0])*u.km/u.s\n",
    "v2 = np.array([-1.325, 4.15, 0])*u.km/u.s\n",
    "v3 = np.array([-6.568, 4.262, 0])*u.km/u.s\n",
    "\n",
    "x1 = np.array([34, -34, 0])*u.AU\n",
    "x2 = np.array([-18, -3, 0])*u.AU\n",
    "x3 = np.array([25, -8, 0])*u.AU"
   ]
  }
 ],
 "metadata": {
  "kernelspec": {
   "display_name": "Python 3 (ipykernel)",
   "language": "python",
   "name": "python3"
  },
  "language_info": {
   "codemirror_mode": {
    "name": "ipython",
    "version": 3
   },
   "file_extension": ".py",
   "mimetype": "text/x-python",
   "name": "python",
   "nbconvert_exporter": "python",
   "pygments_lexer": "ipython3",
   "version": "3.11.2"
  }
 },
 "nbformat": 4,
 "nbformat_minor": 5
}
