{
 "cells": [
  {
   "cell_type": "markdown",
   "id": "67cd0208-e10f-42f8-a3d0-727a60e63e14",
   "metadata": {},
   "source": [
    "# Integration (part II)\n",
    "The second part of this workbook is pretty open-ended! To test how well you're following the object-oriented programming and RK4 integration, let's extend what we did last time. Recall that so far we've created an integrator that can take in $N$ objects (with info about their masses, initial positions, and velocities) and evolve the system forward gravitationally. We did this by defining two classes, `Body`, which represented our objects' properties, and `Simulation`, which evolved our system. \n",
    "\n",
    "To make things slightly more interesting (or at least to expand the problem to a different context), let's try solving the problem of modeling dynamics in an arbitrary potential. For simplicitly, let's consider a popular spherical potential, derived from the so-called Hernquist model. This potential is very similar to a Kepler potential for a point mass, but basically smooths out the mass distribution over some scale radius $a$. Such a potential (and its associated density) might be appropriate to simply model a galactic bulge or elliptical galaxy. The functional form of this potential is the following:\n",
    "$$\\Phi(r) = -\\frac{GM}{r+a}$$\n",
    "\n",
    "Copy over your `Body` and `Simulation` classes from last time to this notebook. Implement the above potential in your code. Think about where the potential appears in our calculation -- what pieces do you need to modify to do this? Once you've made the changes, try initializing a system with parameters similar to the Milky Way ($M = 10^{11}\\ M_\\odot$ and $a=6\\ {\\rm kpc}$ for the potential)."
   ]
  },
  {
   "cell_type": "code",
   "execution_count": null,
   "id": "8af539c2-37e9-4f0e-8782-8da3d318f35c",
   "metadata": {},
   "outputs": [],
   "source": [
    "# go forth and have fun in these cells \n"
   ]
  }
 ],
 "metadata": {
  "kernelspec": {
   "display_name": "Python 3 (ipykernel)",
   "language": "python",
   "name": "python3"
  },
  "language_info": {
   "codemirror_mode": {
    "name": "ipython",
    "version": 3
   },
   "file_extension": ".py",
   "mimetype": "text/x-python",
   "name": "python",
   "nbconvert_exporter": "python",
   "pygments_lexer": "ipython3",
   "version": "3.11.2"
  }
 },
 "nbformat": 4,
 "nbformat_minor": 5
}
